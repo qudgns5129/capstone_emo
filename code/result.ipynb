{
 "cells": [
  {
   "cell_type": "code",
   "execution_count": 28,
   "metadata": {},
   "outputs": [],
   "source": [
    "import time; import random; import datetime\n",
    "import warnings\n",
    "warnings.filterwarnings(\"ignore\")\n",
    "\n",
    "\n",
    "import os\n",
    "import pandas as pd\n",
    "import numpy as np\n",
    "import sys\n",
    "import matplotlib.pyplot as plt\n",
    "\n",
    "\n",
    "%matplotlib inline\n",
    "\n",
    "import contextlib\n",
    "import wave \n",
    "\n",
    "import scipy\n",
    "\n",
    "import librosa\n",
    "import librosa.display\n",
    "from glob import glob\n",
    "from scipy.io import wavfile\n",
    "\n",
    "from pydub import AudioSegment\n",
    "from pydub.silence import split_on_silence\n",
    "from scipy.signal import find_peaks \n",
    "\n",
    "\n",
    "import tensorflow\n",
    "from tensorflow.keras.optimizers import Adam\n",
    "from tensorflow.keras.utils import to_categorical\n",
    "from tensorflow.keras.preprocessing.image import ImageDataGenerator\n",
    "\n",
    " \n",
    "\n",
    "from tensorflow.keras.models import Model, Sequential\n",
    "from tensorflow.keras.layers import (\n",
    "    Conv2D, BatchNormalization, Dropout, MaxPooling2D, Activation,\n",
    "    Flatten, Dense, Input, Concatenate, LeakyReLU, Add, AveragePooling2D, ReLU, MaxPool2D\n",
    "\n",
    ")\n",
    "\n",
    "from sklearn.model_selection import train_test_split\n",
    "from tensorflow.keras.callbacks import LearningRateScheduler\n",
    "from tensorflow.keras.models import load_model\n",
    "\n",
    "import cv2"
   ]
  },
  {
   "cell_type": "code",
   "execution_count": 25,
   "metadata": {},
   "outputs": [],
   "source": [
    "def moving_average(a, n=100):\n",
    "    ret = np.nancumsum(a, dtype=float)\n",
    "    ret[n:] = ret[n:] - ret[:-n]\n",
    "    ret = ret[n - 1:] / n\n",
    "    zero_arr = [0]*(n-1)\n",
    "    return np.append(zero_arr, ret)"
   ]
  },
  {
   "cell_type": "code",
   "execution_count": 26,
   "metadata": {},
   "outputs": [],
   "source": [
    "def cutting_wave(readfile, writefile):\n",
    "    sig, sr = librosa.load(readfile, sr=16000)\n",
    "    \n",
    "    fp = find_peaks(list(sig), height=0.2)[0] #높이가 최소 0.2 이상인 값을 찾음\n",
    "\n",
    "    fp_diff = np.diff(fp)>3000 #다음 기침은 최소 0.2초 이후에 한다 가정\n",
    "    fp_diff = np.append(fp_diff, False) #차분 값의 마지막에 False 값 추가\n",
    "    if sum(fp_diff)==0: fp_index = 0\n",
    "    else: fp_index = list(fp[fp_diff]) #True인 값 추출 (차이가 커지기 전 인덱스 추출)\n",
    "    \n",
    "    #한주기\n",
    "    if fp_index==0:\n",
    "        yt,idx = librosa.effects.trim(sig, top_db = 10)\n",
    "        \n",
    "        mv = moving_average(yt, 10)\n",
    "\n",
    "        if sum(mv>0.2)!=0:\n",
    "            mv_idx = list(mv>0.2).index(True)\n",
    "            \n",
    "            if len(yt[(mv_idx-100):])<1600: \n",
    "                print('Please record it again.')\n",
    "            else:\n",
    "                librosa.output.write_wav(writefile, yt[(mv_idx-100):], sr)\n",
    "                \n",
    "    else:\n",
    "        yt,idx = librosa.effects.trim(sig[:fp_index[0]], top_db = 10)\n",
    "        \n",
    "        mv = moving_average(yt, 10)\n",
    "        \n",
    "        if sum(mv>0.2)!=0:\n",
    "            mv_idx = list(mv>0.2).index(True)\n",
    "\n",
    "            if len(yt[(mv_idx-100):])<1600: \n",
    "                print('Please record it again.')\n",
    "            else:\n",
    "                librosa.output.write_wav(writefile, yt[(mv_idx-100):], sr)"
   ]
  },
  {
   "cell_type": "code",
   "execution_count": 4,
   "metadata": {},
   "outputs": [],
   "source": [
    "def graph_spectrogram(wav_file, sr=16000):\n",
    "    \n",
    "    sig, sr = librosa.load(wav_file, sr=sr)\n",
    "    n_fft = 512\n",
    "    win_length = 400\n",
    "    hop_length = 160\n",
    "    n_mels = 80\n",
    "\n",
    "    D = np.abs(librosa.stft(sig, n_fft=n_fft, win_length = win_length, hop_length=hop_length))\n",
    "    mel_spec = librosa.feature.melspectrogram(S=D, sr=sr, n_mels=n_mels, hop_length=hop_length, win_length=win_length)\n",
    "    \n",
    "    fig,ax = plt.subplots(1)\n",
    "    fig.subplots_adjust(left=0,right=1,bottom=0,top=1)\n",
    "    ax.axis('off')\n",
    "    librosa.display.specshow(librosa.amplitude_to_db(mel_spec, ref=0.00002), sr=sr, hop_length = hop_length, cmap = plt.cm.jet)\n",
    "    ax.axis('off')\n",
    "    plt.rcParams['figure.figsize'] = [0.75,0.5]\n",
    "    fig.canvas.draw()\n",
    "    size_inches  = fig.get_size_inches()\n",
    "    dpi          = fig.get_dpi()\n",
    "    width, height = fig.get_size_inches() * fig.get_dpi()\n",
    "    \n",
    "    mplimage = np.frombuffer(fig.canvas.tostring_rgb(), dtype=np.uint8)\n",
    "    imarray = np.reshape(mplimage, (int(height), int(width), 3))\n",
    "    plt.close(fig)\n",
    "    return imarray"
   ]
  },
  {
   "cell_type": "code",
   "execution_count": 5,
   "metadata": {},
   "outputs": [],
   "source": [
    "def classify_cough(wavefile, model):\n",
    "    image = []\n",
    "    image.append(graph_spectrogram(wavefile))\n",
    "    img_arr = np.array(image)\n",
    "    data = img_arr.astype('float32') / 255.\n",
    "    \n",
    "    CLASSES = np.array([0,1,2])\n",
    "    pred = model.predict(data)\n",
    "    pred_single = CLASSES[np.argmax(pred, axis=-1)]\n",
    "    return pred_single"
   ]
  },
  {
   "cell_type": "code",
   "execution_count": 8,
   "metadata": {},
   "outputs": [
    {
     "data": {
      "text/plain": [
       "Text(0.5, 1.0, 'Waveform')"
      ]
     },
     "execution_count": 8,
     "metadata": {},
     "output_type": "execute_result"
    },
    {
     "data": {
      "image/png": "[encoded data removed]",
      "text/plain": [
       "<Figure size 288x288 with 1 Axes>"
      ]
     },
     "metadata": {
      "needs_background": "light"
     },
     "output_type": "display_data"
    }
   ],
   "source": [
    "sig, sr = librosa.load('C:/Users/admin/corona_contest/public_dataset/00a4e142-2ae1-401e-8319-837e512b1281.wav', sr=16000)\n",
    "\n",
    "plt.figure(figsize=(4,4))\n",
    "librosa.display.waveplot(sig, sr, alpha=0.5)\n",
    "plt.xlabel(\"Time (s)\")\n",
    "plt.ylabel(\"Amplitude\")\n",
    "plt.title(\"Waveform\")"
   ]
  },
  {
   "cell_type": "code",
   "execution_count": 29,
   "metadata": {},
   "outputs": [
    {
     "ename": "AttributeError",
     "evalue": "module 'librosa' has no attribute 'output'",
     "output_type": "error",
     "traceback": [
      "\u001b[1;31m---------------------------------------------------------------------------\u001b[0m",
      "\u001b[1;31mAttributeError\u001b[0m                            Traceback (most recent call last)",
      "\u001b[1;32m<ipython-input-29-e4242c9f2b87>\u001b[0m in \u001b[0;36m<module>\u001b[1;34m\u001b[0m\n\u001b[0;32m      2\u001b[0m \u001b[0mfile_name\u001b[0m \u001b[1;33m=\u001b[0m \u001b[1;34m'../public_dataset/00eead73-a2c2-480d-b2ee-d79b1a526871.wav'\u001b[0m\u001b[1;33m\u001b[0m\u001b[1;33m\u001b[0m\u001b[0m\n\u001b[0;32m      3\u001b[0m \u001b[0mwrite_name\u001b[0m \u001b[1;33m=\u001b[0m \u001b[1;34m'../cut_wave/00eead73-a2c2-480d-b2ee-d79b1a526871_exam.wav'\u001b[0m\u001b[1;33m\u001b[0m\u001b[1;33m\u001b[0m\u001b[0m\n\u001b[1;32m----> 4\u001b[1;33m \u001b[0mcutting_wave\u001b[0m\u001b[1;33m(\u001b[0m\u001b[0mfile_name\u001b[0m\u001b[1;33m,\u001b[0m \u001b[0mwrite_name\u001b[0m\u001b[1;33m)\u001b[0m\u001b[1;33m\u001b[0m\u001b[1;33m\u001b[0m\u001b[0m\n\u001b[0m\u001b[0;32m      5\u001b[0m \u001b[0mmodel\u001b[0m \u001b[1;33m=\u001b[0m \u001b[0mload_model\u001b[0m\u001b[1;33m(\u001b[0m\u001b[1;34m'../model/model_exam.h5'\u001b[0m\u001b[1;33m)\u001b[0m\u001b[1;33m\u001b[0m\u001b[1;33m\u001b[0m\u001b[0m\n\u001b[0;32m      6\u001b[0m \u001b[0mimage\u001b[0m \u001b[1;33m=\u001b[0m \u001b[0mclassify_cough\u001b[0m\u001b[1;33m(\u001b[0m\u001b[0mwrite_name\u001b[0m\u001b[1;33m,\u001b[0m \u001b[0mmodel\u001b[0m\u001b[1;33m)\u001b[0m\u001b[1;33m[\u001b[0m\u001b[1;36m0\u001b[0m\u001b[1;33m]\u001b[0m\u001b[1;33m\u001b[0m\u001b[1;33m\u001b[0m\u001b[0m\n",
      "\u001b[1;32m<ipython-input-26-117dacdb7fa4>\u001b[0m in \u001b[0;36mcutting_wave\u001b[1;34m(readfile, writefile)\u001b[0m\n\u001b[0;32m     34\u001b[0m                 \u001b[0mprint\u001b[0m\u001b[1;33m(\u001b[0m\u001b[1;34m'Please record it again.'\u001b[0m\u001b[1;33m)\u001b[0m\u001b[1;33m\u001b[0m\u001b[1;33m\u001b[0m\u001b[0m\n\u001b[0;32m     35\u001b[0m             \u001b[1;32melse\u001b[0m\u001b[1;33m:\u001b[0m\u001b[1;33m\u001b[0m\u001b[1;33m\u001b[0m\u001b[0m\n\u001b[1;32m---> 36\u001b[1;33m                 \u001b[0mlibrosa\u001b[0m\u001b[1;33m.\u001b[0m\u001b[0moutput\u001b[0m\u001b[1;33m.\u001b[0m\u001b[0mwrite_wav\u001b[0m\u001b[1;33m(\u001b[0m\u001b[0mwritefile\u001b[0m\u001b[1;33m,\u001b[0m \u001b[0myt\u001b[0m\u001b[1;33m[\u001b[0m\u001b[1;33m(\u001b[0m\u001b[0mmv_idx\u001b[0m\u001b[1;33m-\u001b[0m\u001b[1;36m100\u001b[0m\u001b[1;33m)\u001b[0m\u001b[1;33m:\u001b[0m\u001b[1;33m]\u001b[0m\u001b[1;33m,\u001b[0m \u001b[0msr\u001b[0m\u001b[1;33m)\u001b[0m\u001b[1;33m\u001b[0m\u001b[1;33m\u001b[0m\u001b[0m\n\u001b[0m",
      "\u001b[1;31mAttributeError\u001b[0m: module 'librosa' has no attribute 'output'"
     ]
    }
   ],
   "source": [
    "# test\n",
    "file_name = '../public_dataset/00eead73-a2c2-480d-b2ee-d79b1a526871.wav'\n",
    "write_name = '../cut_wave/00eead73-a2c2-480d-b2ee-d79b1a526871_exam.wav'\n",
    "cutting_wave(file_name, write_name)\n",
    "model = load_model('../model/model_exam.h5')\n",
    "image = classify_cough(write_name, model)[0]"
   ]
  },
  {
   "cell_type": "code",
   "execution_count": null,
   "metadata": {},
   "outputs": [],
   "source": []
  }
 ],
 "metadata": {
  "kernelspec": {
   "display_name": "Python 3",
   "language": "python",
   "name": "python3"
  },
  "language_info": {
   "codemirror_mode": {
    "name": "ipython",
    "version": 3
   },
   "file_extension": ".py",
   "mimetype": "text/x-python",
   "name": "python",
   "nbconvert_exporter": "python",
   "pygments_lexer": "ipython3",
   "version": "3.7.6"
  }
 },
 "nbformat": 4,
 "nbformat_minor": 4
}
